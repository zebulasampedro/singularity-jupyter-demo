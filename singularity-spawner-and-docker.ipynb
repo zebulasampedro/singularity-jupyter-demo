{
 "cells": [
  {
   "cell_type": "markdown",
   "metadata": {},
   "source": [
    "# Singularity Spawner and Docker Containers\n",
    "---\n",
    "This tutorial provides an overview of the proof-of-concept _Singularity Spawner_ for JupyterHub, as well as the relationship between Singularity and Docker."
   ]
  },
  {
   "cell_type": "markdown",
   "metadata": {},
   "source": [
    "## Singularity Spawner\n",
    "Singularity Spawner (https://github.com/ResearchComputing/jupyterhub-singularity-spawner) is an ongoing development project at RC to allow JupyterHub to spawn notebook servers inside of Singularity containers."
   ]
  },
  {
   "cell_type": "code",
   "execution_count": null,
   "metadata": {},
   "outputs": [],
   "source": []
  }
 ],
 "metadata": {
  "kernelspec": {
   "display_name": "Bash",
   "language": "bash",
   "name": "bash"
  },
  "language_info": {
   "codemirror_mode": "shell",
   "file_extension": ".sh",
   "mimetype": "text/x-sh",
   "name": "bash"
  }
 },
 "nbformat": 4,
 "nbformat_minor": 2
}
