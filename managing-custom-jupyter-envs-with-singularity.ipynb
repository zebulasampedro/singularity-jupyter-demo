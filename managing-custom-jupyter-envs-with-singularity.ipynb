{
 "cells": [
  {
   "cell_type": "markdown",
   "metadata": {},
   "source": [
    "# Managing custom Jupyter environments with Singularity\n",
    "---\n",
    "In this tutorial we will cover the basic workflow for managing custom software environments for Jupyter Notebooks using Singularity."
   ]
  },
  {
   "cell_type": "markdown",
   "metadata": {},
   "source": [
    "## Pull the base image from SingularityHub\n",
    "We maintain a base image on SingularityHub for running Jupyter* (https://singularity-hub.org/collections/440/). This image contains the minimum dependencies and configuration needed to run containerized Notebooks (standalone or JupyterHub-spawned), and is intended to serve as a base for user-built software environments."
   ]
  },
  {
   "cell_type": "markdown",
   "metadata": {},
   "source": [
    "### A basic pull\n",
    "Start by pulling the Jupyter base image from SingularityHub:"
   ]
  },
  {
   "cell_type": "code",
   "execution_count": 7,
   "metadata": {},
   "outputs": [
    {
     "name": "stdout",
     "output_type": "stream",
     "text": [
      "\r",
      "Progress ||----------------------------------|   0.0% \r",
      "Progress ||----------------------------------|   0.6% \r",
      "Progress ||----------------------------------|   1.2% \r",
      "Progress ||----------------------------------|   1.7% \r",
      "Progress ||----------------------------------|   2.3% \r",
      "Progress |=|---------------------------------|   2.9% \r",
      "Progress |=|---------------------------------|   3.5% \r",
      "Progress |=|---------------------------------|   4.1% \r",
      "Progress |=|---------------------------------|   4.7% \r",
      "Progress |=|---------------------------------|   5.2% \r",
      "Progress |==|--------------------------------|   5.8% \r",
      "Progress |==|--------------------------------|   6.4% \r",
      "Progress |==|--------------------------------|   7.0% \r",
      "Progress |==|--------------------------------|   7.6% \r",
      "Progress |==|--------------------------------|   8.2% \r",
      "Progress |===|-------------------------------|   8.7% \r",
      "Progress |===|-------------------------------|   9.3% \r",
      "Progress |===|-------------------------------|   9.9% \r",
      "Progress |===|-------------------------------|  10.5% \r",
      "Progress |===|-------------------------------|  11.1% \r",
      "Progress |====|------------------------------|  11.7% \r",
      "Progress |====|------------------------------|  12.2% \r",
      "Progress |====|------------------------------|  12.8% \r",
      "Progress |====|------------------------------|  13.4% \r",
      "Progress |====|------------------------------|  14.0% \r",
      "Progress |=====|-----------------------------|  14.6% \r",
      "Progress |=====|-----------------------------|  15.1% \r",
      "Progress |=====|-----------------------------|  15.7% \r",
      "Progress |=====|-----------------------------|  16.3% \r",
      "Progress |=====|-----------------------------|  16.9% \r",
      "Progress |======|----------------------------|  17.5% \r",
      "Progress |======|----------------------------|  18.1% \r",
      "Progress |======|----------------------------|  18.6% \r",
      "Progress |======|----------------------------|  19.2% \r",
      "Progress |======|----------------------------|  19.8% \r",
      "Progress |=======|---------------------------|  20.4% \r",
      "Progress |=======|---------------------------|  21.0% \r",
      "Progress |=======|---------------------------|  21.6% \r",
      "Progress |=======|---------------------------|  22.1% \r",
      "Progress |=======|---------------------------|  22.7% \r",
      "Progress |========|--------------------------|  23.3% \r",
      "Progress |========|--------------------------|  23.9% \r",
      "Progress |========|--------------------------|  24.5% \r",
      "Progress |========|--------------------------|  25.1% \r",
      "Progress |========|--------------------------|  25.6% \r",
      "Progress |=========|-------------------------|  26.2% \r",
      "Progress |=========|-------------------------|  26.8% \r",
      "Progress |=========|-------------------------|  27.4% \r",
      "Progress |=========|-------------------------|  28.0% \r",
      "Progress |=========|-------------------------|  28.5% \r",
      "Progress |==========|------------------------|  29.1% \r",
      "Progress |==========|------------------------|  29.7% \r",
      "Progress |==========|------------------------|  30.3% \r",
      "Progress |==========|------------------------|  30.9% \r",
      "Progress |===========|-----------------------|  31.5% \r",
      "Progress |===========|-----------------------|  32.0% \r",
      "Progress |===========|-----------------------|  32.6% \r",
      "Progress |===========|-----------------------|  33.2% \r",
      "Progress |===========|-----------------------|  33.8% \r",
      "Progress |============|----------------------|  34.4% \r",
      "Progress |============|----------------------|  35.0% \r",
      "Progress |============|----------------------|  35.5% \r",
      "Progress |============|----------------------|  36.1% \r",
      "Progress |============|----------------------|  36.7% \r",
      "Progress |=============|---------------------|  37.3% \r",
      "Progress |=============|---------------------|  37.9% \r",
      "Progress |=============|---------------------|  38.5% \r",
      "Progress |=============|---------------------|  39.0% \r",
      "Progress |=============|---------------------|  39.6% \r",
      "Progress |==============|--------------------|  40.2% \r",
      "Progress |==============|--------------------|  40.8% \r",
      "Progress |==============|--------------------|  41.4% \r",
      "Progress |==============|--------------------|  42.0% \r",
      "Progress |==============|--------------------|  42.5% \r",
      "Progress |===============|-------------------|  43.1% \r",
      "Progress |===============|-------------------|  43.7% \r",
      "Progress |===============|-------------------|  44.3% \r",
      "Progress |===============|-------------------|  44.9% \r",
      "Progress |===============|-------------------|  45.4% \r",
      "Progress |================|------------------|  46.0% \r",
      "Progress |================|------------------|  46.6% \r",
      "Progress |================|------------------|  47.2% \r",
      "Progress |================|------------------|  47.8% \r",
      "Progress |================|------------------|  48.4% \r",
      "Progress |=================|-----------------|  48.9% \r",
      "Progress |=================|-----------------|  49.5% \r",
      "Progress |=================|-----------------|  50.1% \r",
      "Progress |=================|-----------------|  50.7% \r",
      "Progress |=================|-----------------|  51.3% \r",
      "Progress |==================|----------------|  51.9% \r",
      "Progress |==================|----------------|  52.4% \r",
      "Progress |==================|----------------|  53.0% \r",
      "Progress |==================|----------------|  53.6% \r",
      "Progress |==================|----------------|  54.2% \r",
      "Progress |===================|---------------|  54.8% \r",
      "Progress |===================|---------------|  55.4% \r",
      "Progress |===================|---------------|  55.9% \r",
      "Progress |===================|---------------|  56.5% \r",
      "Progress |===================|---------------|  57.1% \r",
      "Progress |====================|--------------|  57.7% \r",
      "Progress |====================|--------------|  58.3% \r",
      "Progress |====================|--------------|  58.8% \r",
      "Progress |====================|--------------|  59.4% \r",
      "Progress |=====================|-------------|  60.0% \r",
      "Progress |=====================|-------------|  60.6% \r",
      "Progress |=====================|-------------|  61.2% \r",
      "Progress |=====================|-------------|  61.8% \r",
      "Progress |=====================|-------------|  62.3% \r",
      "Progress |======================|------------|  62.9% \r",
      "Progress |======================|------------|  63.5% \r",
      "Progress |======================|------------|  64.1% \r",
      "Progress |======================|------------|  64.7% \r",
      "Progress |======================|------------|  65.3% \r",
      "Progress |=======================|-----------|  65.8% \r",
      "Progress |=======================|-----------|  66.4% \r",
      "Progress |=======================|-----------|  67.0% \r",
      "Progress |=======================|-----------|  67.6% \r",
      "Progress |=======================|-----------|  68.2% \r",
      "Progress |========================|----------|  68.8% \r",
      "Progress |========================|----------|  69.3% \r",
      "Progress |========================|----------|  69.9% \r",
      "Progress |========================|----------|  70.5% \r",
      "Progress |========================|----------|  71.1% \r",
      "Progress |=========================|---------|  71.7% \r",
      "Progress |=========================|---------|  72.2% \r",
      "Progress |=========================|---------|  72.8% \r",
      "Progress |=========================|---------|  73.4% \r",
      "Progress |=========================|---------|  74.0% \r",
      "Progress |==========================|--------|  74.6% \r",
      "Progress |==========================|--------|  75.2% \r",
      "Progress |==========================|--------|  75.7% \r",
      "Progress |==========================|--------|  76.3% \r",
      "Progress |==========================|--------|  76.9% \r",
      "Progress |===========================|-------|  77.5% \r",
      "Progress |===========================|-------|  78.1% \r",
      "Progress |===========================|-------|  78.7% \r",
      "Progress |===========================|-------|  79.2% \r",
      "Progress |===========================|-------|  79.8% \r",
      "Progress |============================|------|  80.4% \r",
      "Progress |============================|------|  81.0% \r",
      "Progress |============================|------|  81.6% \r",
      "Progress |============================|------|  82.2% \r",
      "Progress |============================|------|  82.7% \r",
      "Progress |=============================|-----|  83.3% \r",
      "Progress |=============================|-----|  83.9% \r",
      "Progress |=============================|-----|  84.5% \r",
      "Progress |=============================|-----|  85.1% \r",
      "Progress |=============================|-----|  85.6% \r",
      "Progress |==============================|----|  86.2% \r",
      "Progress |==============================|----|  86.8% \r",
      "Progress |==============================|----|  87.4% \r",
      "Progress |==============================|----|  88.0% \r",
      "Progress |==============================|----|  88.6% \r",
      "Progress |===============================|---|  89.1% \r",
      "Progress |===============================|---|  89.7% \r",
      "Progress |===============================|---|  90.3% \r",
      "Progress |===============================|---|  90.9% \r",
      "Progress |================================|--|  91.5% \r",
      "Progress |================================|--|  92.1% \r",
      "Progress |================================|--|  92.6% \r",
      "Progress |================================|--|  93.2% \r",
      "Progress |================================|--|  93.8% \r",
      "Progress |=================================|-|  94.4% \r",
      "Progress |=================================|-|  95.0% \r",
      "Progress |=================================|-|  95.6% \r",
      "Progress |=================================|-|  96.1% \r",
      "Progress |=================================|-|  96.7% \r",
      "Progress |==================================||  97.3% \r",
      "Progress |==================================||  97.9% \r",
      "Progress |==================================||  98.5% \r",
      "Progress |==================================||  99.0% \r",
      "Progress |==================================||  99.6% \r",
      "Progress |===================================| 100.0% \n"
     ]
    },
    {
     "name": "stdout",
     "output_type": "stream",
     "text": [
      "Done. Container is at: ./jupyter.img\n"
     ]
    }
   ],
   "source": [
    "singularity pull --name \"jupyter.img\" shub://ResearchComputing/singularity-jupyter:master"
   ]
  },
  {
   "cell_type": "markdown",
   "metadata": {},
   "source": [
    "There it is! Your container is good to go."
   ]
  },
  {
   "cell_type": "code",
   "execution_count": 8,
   "metadata": {},
   "outputs": [
    {
     "name": "stdout",
     "output_type": "stream",
     "text": [
      "usage: jupyter [-h] [--version] [--config-dir] [--data-dir] [--runtime-dir]\n",
      "               [--paths] [--json]\n",
      "               [subcommand]\n",
      "\n",
      "Jupyter: Interactive Computing\n",
      "\n",
      "positional arguments:\n",
      "  subcommand     the subcommand to launch\n",
      "\n",
      "optional arguments:\n",
      "  -h, --help     show this help message and exit\n",
      "  --version      show the jupyter command's version and exit\n",
      "  --config-dir   show Jupyter config dir\n",
      "  --data-dir     show Jupyter data dir\n",
      "  --runtime-dir  show Jupyter runtime dir\n",
      "  --paths        show all Jupyter paths. Add --json for machine-readable\n",
      "                 format.\n",
      "  --json         output paths as machine-readable json\n",
      "\n",
      "Available subcommands: bundlerextension kernelspec migrate nbconvert\n",
      "nbextension notebook run serverextension troubleshoot trust\n"
     ]
    }
   ],
   "source": [
    "singularity exec jupyter.img jupyter -h"
   ]
  },
  {
   "cell_type": "markdown",
   "metadata": {},
   "source": [
    "## Customizing the base image\n",
    "The base image we provide is meant to capture the _minimum_ config and dependencies to run Jupyter Notebooks. Here we detail how to customize the base image to better suit your needs."
   ]
  },
  {
   "cell_type": "markdown",
   "metadata": {},
   "source": [
    "### Resize the image\n",
    "This image uses the default size set by Singularity _(768M)_ which is great for quick builds and pulls, but it is likely you'll need more space to accommodate your custom software stack."
   ]
  },
  {
   "cell_type": "code",
   "execution_count": 9,
   "metadata": {},
   "outputs": [
    {
     "name": "stdout",
     "output_type": "stream",
     "text": [
      "769M -rwxrwxr-x.  1 vagrant vagrant 769M Sep 27 02:55 jupyter.img\n"
     ]
    }
   ],
   "source": [
    "ls -lsah | grep jupyter.img"
   ]
  },
  {
   "cell_type": "markdown",
   "metadata": {},
   "source": [
    "To increase the size of your image you must create a new image, and then import the Jupyter base image:"
   ]
  },
  {
   "cell_type": "code",
   "execution_count": 13,
   "metadata": {},
   "outputs": [
    {
     "name": "stdout",
     "output_type": "stream",
     "text": [
      "Initializing Singularity image subsystem\n",
      "\u001b[0mOpening image file: jupyter-ext.img\n",
      "\u001b[0mCreating 1500MiB image\n",
      "\u001b[0mBinding image to loop\n",
      "\u001b[0mCreating file system within image\n",
      "\u001b[0mImage is done: jupyter-ext.img\n",
      "\u001b[0m"
     ]
    }
   ],
   "source": [
    "singularity create --size 1500 jupyter-ext.img\n",
    "singularity export jupyter.img | singularity import jupyter-ext.img"
   ]
  },
  {
   "cell_type": "code",
   "execution_count": 14,
   "metadata": {},
   "outputs": [
    {
     "name": "stdout",
     "output_type": "stream",
     "text": [
      "usage: jupyter [-h] [--version] [--config-dir] [--data-dir] [--runtime-dir]\n",
      "               [--paths] [--json]\n",
      "               [subcommand]\n",
      "\n",
      "Jupyter: Interactive Computing\n",
      "\n",
      "positional arguments:\n",
      "  subcommand     the subcommand to launch\n",
      "\n",
      "optional arguments:\n",
      "  -h, --help     show this help message and exit\n",
      "  --version      show the jupyter command's version and exit\n",
      "  --config-dir   show Jupyter config dir\n",
      "  --data-dir     show Jupyter data dir\n",
      "  --runtime-dir  show Jupyter runtime dir\n",
      "  --paths        show all Jupyter paths. Add --json for machine-readable\n",
      "                 format.\n",
      "  --json         output paths as machine-readable json\n",
      "\n",
      "Available subcommands: bundlerextension kernelspec migrate nbconvert\n",
      "nbextension notebook run serverextension troubleshoot trust\n"
     ]
    }
   ],
   "source": [
    "singularity exec jupyter.img jupyter -h"
   ]
  },
  {
   "cell_type": "markdown",
   "metadata": {},
   "source": [
    "### Installing software _(the quick way)_\n",
    "By default Singularity containers mounted as read-only volumes, which means you won't be able to add content or install software _(even as a privileged user)_, save for default or system-mounted paths. In order to add content you must run your Singularity command with the `--writable` flag."
   ]
  },
  {
   "cell_type": "code",
   "execution_count": null,
   "metadata": {},
   "outputs": [
    {
     "name": "stdout",
     "output_type": "stream",
     "text": [
      "Singularity: Invoking an interactive shell within container...\n",
      "\n"
     ]
    }
   ],
   "source": [
    "singularity shell --writable jupyter-ext.img"
   ]
  },
  {
   "cell_type": "markdown",
   "metadata": {},
   "source": [
    "### Installing Software _(the reproducible way)_\n",
    "Shelling into your container and making ad-hoc changes is excellent for debugging and initial development, but it is considered bad practice as the steps needed to construct your software environment are not captured and cannot be reproduced.\n",
    "\n",
    "To make durable, reproducible changes you need to build a spec file from which you can bootstrap your container. Bootstrapping must be done by a privileged user"
   ]
  },
  {
   "cell_type": "code",
   "execution_count": 4,
   "metadata": {},
   "outputs": [
    {
     "name": "stdout",
     "output_type": "stream",
     "text": [
      "Initializing Singularity image subsystem\n",
      "\u001b[0mOpening image file: jupyter-bootstrapped.img\n",
      "\u001b[0mCreating 1500MiB image\n",
      "\u001b[0mBinding image to loop\n",
      "\u001b[0mCreating file system within image\n",
      "\u001b[0mImage is done: jupyter-bootstrapped.img\n",
      "\u001b[0mSanitizing environment\n",
      "\u001b[0mBuilding from bootstrap definition recipe\n",
      "\u001b[0mAdding base Singularity environment to container\n",
      "Docker image path: index.docker.io/jupyter/base-notebook:latest\n",
      "Cache folder set to /root/.singularity/docker\n",
      "Exploding layer: sha256:e0a742c2abfd5e2a6f8ed15b1c78e873cf9559b96a04204daf6de5df01e3124c.tar.gz\n",
      "Exploding layer: sha256:486cb8339a27635fa93dc47aa0c689326a0a7cce388966d16daf8d265436cf7f.tar.gz\n",
      "Exploding layer: sha256:dc6f0d824617ad8a5d1163a5b2084814665dd83156317ad06ccf14deb517a053.tar.gz\n",
      "Exploding layer: sha256:4f7a5649a30e3f318ce5d7e4dbcbbeb6c0938c4cbae4d4a641fe910562ff4978.tar.gz\n",
      "Exploding layer: sha256:672363445ad2c734e29221a6b47f4e614b5adc8a3cdca3364f62db2ed2bdff0c.tar.gz\n",
      "Exploding layer: sha256:b337aaee648d9f87e96fae8b24ae2dd887a2ded309b38dbee691fcdb040878cc.tar.gz\n",
      "Exploding layer: sha256:7f77b4eaa7ff7da43552cca1a34f9d16a1bbe90ba779d2c4355a4c4d1ab6dd0f.tar.gz\n",
      "Exploding layer: sha256:94e7bffb8046310f285abb93104a0cddd073c5a44ec7cfab05a3db6128fb3006.tar.gz\n",
      "Exploding layer: sha256:fa94652128009709e53b85cf57087d739108eaa98fd6e599343a32267deda620.tar.gz\n",
      "Exploding layer: sha256:79c35484f704c0792d062e5749c5df82fa85820bf072531daccefb532d88f294.tar.gz\n",
      "Exploding layer: sha256:f1756f88332d61a74c658fae7b6a5b8509e59b24e7f4ae7412bb183e23c17bc8.tar.gz\n",
      "Exploding layer: sha256:e73fef5319c18fa96bf5654b990f993622087a8caa56c2a5673db488a549ab1f.tar.gz\n",
      "Exploding layer: sha256:ea6e64c66b3a6af070c29a97433acaf94f875d99b4d43509f874686afa66a7d8.tar.gz\n",
      "Exploding layer: sha256:f3e50561218a351fb914efee8fb3bcb05eb619f70615520375e864b40a0227c4.tar.gz\n",
      "Exploding layer: sha256:f2de9a241e20a4ca75822db878a3eecf6afee5c4a96f099b76fe24306a51c1ca.tar.gz\n",
      "Exploding layer: sha256:6684df1dccb5994df682ca325871418c86770373ca27638919dff8dbb42b063a.tar.gz\n",
      "Exploding layer: sha256:1033de5a165ffa098da08b2da7325b577e5585d55bee04439033d0e72103bd64.tar.gz\n",
      "Exploding layer: sha256:ff59b2aa8f66f44d88ee7f218edd92bf0ced0d585b880ea6e9fc267100718f1b.tar.gz\n",
      "Exploding layer: sha256:0ec5668b017f4b07564d4b53a6f4bd19c61dc4892342ed092c076c99ad065c2e.tar.gz\n",
      "Running post scriptlet\n",
      "+ echo Installing seaborn...\n",
      "Installing seaborn...\n",
      "+ pip3 install seaborn\n",
      "/bin/sh: 2: pip3: not found\n",
      "\u001b[31mABORT: Aborting with RETVAL=255\n",
      "\u001b(B\u001b[m"
     ]
    },
    {
     "ename": "",
     "evalue": "255",
     "output_type": "error",
     "traceback": []
    }
   ],
   "source": [
    "singularity create --size 1500 jupyter-bootstrapped.img\n",
    "sudo /usr/local/bin/singularity bootstrap jupyter-bootstrapped.img jupyter-bootstrapped.def"
   ]
  },
  {
   "cell_type": "code",
   "execution_count": 3,
   "metadata": {},
   "outputs": [],
   "source": [
    "rm jupyter-bootstrapped.img"
   ]
  },
  {
   "cell_type": "markdown",
   "metadata": {},
   "source": [
    "# Docker, since shub bootstrap unsupported"
   ]
  },
  {
   "cell_type": "code",
   "execution_count": null,
   "metadata": {},
   "outputs": [],
   "source": [
    "singularity pull --name \"jupyter-base.img\" docker://jupyter/base-notebook\n",
    "singularity create --size 1500 jupyter-ext.img\n",
    "singularity export jupyter-base.img | singularity import jupyter-ext.img"
   ]
  },
  {
   "cell_type": "markdown",
   "metadata": {},
   "source": [
    "```\n",
    "BootStrap: docker\n",
    "From: jupyter/base-notebook\n",
    "\n",
    "%post\n",
    "  echo \"Installing seaborn...\"\n",
    "  pip3 install seaborn\n",
    "```"
   ]
  },
  {
   "cell_type": "code",
   "execution_count": 1,
   "metadata": {},
   "outputs": [
    {
     "name": "stdout",
     "output_type": "stream",
     "text": [
      "demo-playbook\t\t  LICENSE\n",
      "hello-from-r.ipynb\t  managing-custom-jupyter-envs-with-singularity.ipynb\n",
      "jupyter-base.img\t  README.md\n",
      "jupyter-bootstrapped.def  singularity-spawner-and-docker.ipynb\n",
      "jupyter-r.img\t\t  Vagrantfile\n"
     ]
    }
   ],
   "source": [
    "ls"
   ]
  },
  {
   "cell_type": "code",
   "execution_count": null,
   "metadata": {},
   "outputs": [],
   "source": []
  }
 ],
 "metadata": {
  "kernelspec": {
   "display_name": "Bash",
   "language": "bash",
   "name": "bash"
  },
  "language_info": {
   "codemirror_mode": "shell",
   "file_extension": ".sh",
   "mimetype": "text/x-sh",
   "name": "bash"
  }
 },
 "nbformat": 4,
 "nbformat_minor": 2
}
