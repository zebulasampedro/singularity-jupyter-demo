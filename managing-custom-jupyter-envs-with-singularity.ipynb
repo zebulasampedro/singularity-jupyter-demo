{
 "cells": [
  {
   "cell_type": "markdown",
   "metadata": {},
   "source": [
    "# Managing custom Jupyter environments with Singularity\n",
    "---\n",
    "In this tutorial we will cover the basic workflow for managing custom software environments for Jupyter Notebooks using Singularity."
   ]
  },
  {
   "cell_type": "code",
   "execution_count": 1,
   "metadata": {},
   "outputs": [
    {
     "name": "stdout",
     "output_type": "stream",
     "text": [
      "/curc/sw/singularity/2.3.2/bin:/home/sampedro/local/bin:/usr/local/sbin:/usr/local/bin:/usr/sbin:/usr/bin\n",
      "/curc/sw/singularity/2.3.2/lib:\n"
     ]
    }
   ],
   "source": [
    "source configure-singularity-env.sh\n",
    "echo $PATH\n",
    "echo $LD_LIBRARY_PATH"
   ]
  },
  {
   "cell_type": "markdown",
   "metadata": {},
   "source": [
    "## Pull the base image from SingularityHub\n",
    "We maintain a base image on SingularityHub for running Jupyter* (https://singularity-hub.org/collections/440/). This image contains the minimum dependencies and configuration needed to run containerized Notebooks (standalone or JupyterHub-spawned), and is intended to serve as a base for user-built software environments."
   ]
  },
  {
   "cell_type": "markdown",
   "metadata": {},
   "source": [
    "### A basic pull\n",
    "Start by pulling the Jupyter base image from SingularityHub:"
   ]
  },
  {
   "cell_type": "code",
   "execution_count": 7,
   "metadata": {},
   "outputs": [
    {
     "name": "stdout",
     "output_type": "stream",
     "text": [
      "\r",
      "Progress ||----------------------------------|   0.0% \r",
      "Progress ||----------------------------------|   0.6% \r",
      "Progress ||----------------------------------|   1.2% \r",
      "Progress ||----------------------------------|   1.7% \r",
      "Progress ||----------------------------------|   2.3% \r",
      "Progress |=|---------------------------------|   2.9% \r",
      "Progress |=|---------------------------------|   3.5% \r",
      "Progress |=|---------------------------------|   4.1% \r",
      "Progress |=|---------------------------------|   4.7% \r",
      "Progress |=|---------------------------------|   5.2% \r",
      "Progress |==|--------------------------------|   5.8% \r",
      "Progress |==|--------------------------------|   6.4% \r",
      "Progress |==|--------------------------------|   7.0% \r",
      "Progress |==|--------------------------------|   7.6% \r",
      "Progress |==|--------------------------------|   8.2% \r",
      "Progress |===|-------------------------------|   8.7% \r",
      "Progress |===|-------------------------------|   9.3% \r",
      "Progress |===|-------------------------------|   9.9% \r",
      "Progress |===|-------------------------------|  10.5% \r",
      "Progress |===|-------------------------------|  11.1% \r",
      "Progress |====|------------------------------|  11.7% \r",
      "Progress |====|------------------------------|  12.2% \r",
      "Progress |====|------------------------------|  12.8% \r",
      "Progress |====|------------------------------|  13.4% \r",
      "Progress |====|------------------------------|  14.0% \r",
      "Progress |=====|-----------------------------|  14.6% \r",
      "Progress |=====|-----------------------------|  15.1% \r",
      "Progress |=====|-----------------------------|  15.7% \r",
      "Progress |=====|-----------------------------|  16.3% \r",
      "Progress |=====|-----------------------------|  16.9% \r",
      "Progress |======|----------------------------|  17.5% \r",
      "Progress |======|----------------------------|  18.1% \r",
      "Progress |======|----------------------------|  18.6% \r",
      "Progress |======|----------------------------|  19.2% \r",
      "Progress |======|----------------------------|  19.8% \r",
      "Progress |=======|---------------------------|  20.4% \r",
      "Progress |=======|---------------------------|  21.0% \r",
      "Progress |=======|---------------------------|  21.6% \r",
      "Progress |=======|---------------------------|  22.1% \r",
      "Progress |=======|---------------------------|  22.7% \r",
      "Progress |========|--------------------------|  23.3% \r",
      "Progress |========|--------------------------|  23.9% \r",
      "Progress |========|--------------------------|  24.5% \r",
      "Progress |========|--------------------------|  25.1% \r",
      "Progress |========|--------------------------|  25.6% \r",
      "Progress |=========|-------------------------|  26.2% \r",
      "Progress |=========|-------------------------|  26.8% \r",
      "Progress |=========|-------------------------|  27.4% \r",
      "Progress |=========|-------------------------|  28.0% \r",
      "Progress |=========|-------------------------|  28.5% \r",
      "Progress |==========|------------------------|  29.1% \r",
      "Progress |==========|------------------------|  29.7% \r",
      "Progress |==========|------------------------|  30.3% \r",
      "Progress |==========|------------------------|  30.9% \r",
      "Progress |===========|-----------------------|  31.5% \r",
      "Progress |===========|-----------------------|  32.0% \r",
      "Progress |===========|-----------------------|  32.6% \r",
      "Progress |===========|-----------------------|  33.2% \r",
      "Progress |===========|-----------------------|  33.8% \r",
      "Progress |============|----------------------|  34.4% \r",
      "Progress |============|----------------------|  35.0% \r",
      "Progress |============|----------------------|  35.5% \r",
      "Progress |============|----------------------|  36.1% \r",
      "Progress |============|----------------------|  36.7% \r",
      "Progress |=============|---------------------|  37.3% \r",
      "Progress |=============|---------------------|  37.9% \r",
      "Progress |=============|---------------------|  38.5% \r",
      "Progress |=============|---------------------|  39.0% \r",
      "Progress |=============|---------------------|  39.6% \r",
      "Progress |==============|--------------------|  40.2% \r",
      "Progress |==============|--------------------|  40.8% \r",
      "Progress |==============|--------------------|  41.4% \r",
      "Progress |==============|--------------------|  42.0% \r",
      "Progress |==============|--------------------|  42.5% \r",
      "Progress |===============|-------------------|  43.1% \r",
      "Progress |===============|-------------------|  43.7% \r",
      "Progress |===============|-------------------|  44.3% \r",
      "Progress |===============|-------------------|  44.9% \r",
      "Progress |===============|-------------------|  45.4% \r",
      "Progress |================|------------------|  46.0% \r",
      "Progress |================|------------------|  46.6% \r",
      "Progress |================|------------------|  47.2% \r",
      "Progress |================|------------------|  47.8% \r",
      "Progress |================|------------------|  48.4% \r",
      "Progress |=================|-----------------|  48.9% \r",
      "Progress |=================|-----------------|  49.5% \r",
      "Progress |=================|-----------------|  50.1% \r",
      "Progress |=================|-----------------|  50.7% \r",
      "Progress |=================|-----------------|  51.3% \r",
      "Progress |==================|----------------|  51.9% \r",
      "Progress |==================|----------------|  52.4% \r",
      "Progress |==================|----------------|  53.0% \r",
      "Progress |==================|----------------|  53.6% \r",
      "Progress |==================|----------------|  54.2% \r",
      "Progress |===================|---------------|  54.8% \r",
      "Progress |===================|---------------|  55.4% \r",
      "Progress |===================|---------------|  55.9% \r",
      "Progress |===================|---------------|  56.5% \r",
      "Progress |===================|---------------|  57.1% \r",
      "Progress |====================|--------------|  57.7% \r",
      "Progress |====================|--------------|  58.3% \r",
      "Progress |====================|--------------|  58.8% \r",
      "Progress |====================|--------------|  59.4% \r",
      "Progress |=====================|-------------|  60.0% \r",
      "Progress |=====================|-------------|  60.6% \r",
      "Progress |=====================|-------------|  61.2% \r",
      "Progress |=====================|-------------|  61.8% \r",
      "Progress |=====================|-------------|  62.3% \r",
      "Progress |======================|------------|  62.9% \r",
      "Progress |======================|------------|  63.5% \r",
      "Progress |======================|------------|  64.1% \r",
      "Progress |======================|------------|  64.7% \r",
      "Progress |======================|------------|  65.3% \r",
      "Progress |=======================|-----------|  65.8% \r",
      "Progress |=======================|-----------|  66.4% \r",
      "Progress |=======================|-----------|  67.0% \r",
      "Progress |=======================|-----------|  67.6% \r",
      "Progress |=======================|-----------|  68.2% \r",
      "Progress |========================|----------|  68.8% \r",
      "Progress |========================|----------|  69.3% \r",
      "Progress |========================|----------|  69.9% \r",
      "Progress |========================|----------|  70.5% \r",
      "Progress |========================|----------|  71.1% \r",
      "Progress |=========================|---------|  71.7% \r",
      "Progress |=========================|---------|  72.2% \r",
      "Progress |=========================|---------|  72.8% \r",
      "Progress |=========================|---------|  73.4% \r",
      "Progress |=========================|---------|  74.0% \r",
      "Progress |==========================|--------|  74.6% \r",
      "Progress |==========================|--------|  75.2% \r",
      "Progress |==========================|--------|  75.7% \r",
      "Progress |==========================|--------|  76.3% \r",
      "Progress |==========================|--------|  76.9% \r",
      "Progress |===========================|-------|  77.5% \r",
      "Progress |===========================|-------|  78.1% \r",
      "Progress |===========================|-------|  78.7% \r",
      "Progress |===========================|-------|  79.2% \r",
      "Progress |===========================|-------|  79.8% \r",
      "Progress |============================|------|  80.4% \r",
      "Progress |============================|------|  81.0% \r",
      "Progress |============================|------|  81.6% \r",
      "Progress |============================|------|  82.2% \r",
      "Progress |============================|------|  82.7% \r",
      "Progress |=============================|-----|  83.3% \r",
      "Progress |=============================|-----|  83.9% \r",
      "Progress |=============================|-----|  84.5% \r",
      "Progress |=============================|-----|  85.1% \r",
      "Progress |=============================|-----|  85.6% \r",
      "Progress |==============================|----|  86.2% \r",
      "Progress |==============================|----|  86.8% \r",
      "Progress |==============================|----|  87.4% \r",
      "Progress |==============================|----|  88.0% \r",
      "Progress |==============================|----|  88.6% \r",
      "Progress |===============================|---|  89.1% \r",
      "Progress |===============================|---|  89.7% \r",
      "Progress |===============================|---|  90.3% \r",
      "Progress |===============================|---|  90.9% \r",
      "Progress |================================|--|  91.5% \r",
      "Progress |================================|--|  92.1% \r",
      "Progress |================================|--|  92.6% \r",
      "Progress |================================|--|  93.2% \r",
      "Progress |================================|--|  93.8% \r",
      "Progress |=================================|-|  94.4% \r",
      "Progress |=================================|-|  95.0% \r",
      "Progress |=================================|-|  95.6% \r",
      "Progress |=================================|-|  96.1% \r",
      "Progress |=================================|-|  96.7% \r",
      "Progress |==================================||  97.3% \r",
      "Progress |==================================||  97.9% \r",
      "Progress |==================================||  98.5% \r",
      "Progress |==================================||  99.0% \r",
      "Progress |==================================||  99.6% \r",
      "Progress |===================================| 100.0% \n"
     ]
    },
    {
     "name": "stdout",
     "output_type": "stream",
     "text": [
      "Done. Container is at: ./jupyter.img\n"
     ]
    }
   ],
   "source": [
    "singularity pull --name \"jupyter.img\" shub://ResearchComputing/singularity-jupyter:master"
   ]
  },
  {
   "cell_type": "markdown",
   "metadata": {},
   "source": [
    "There it is! Your container is good to go."
   ]
  },
  {
   "cell_type": "code",
   "execution_count": 2,
   "metadata": {},
   "outputs": [
    {
     "name": "stdout",
     "output_type": "stream",
     "text": [
      "hello\n"
     ]
    }
   ],
   "source": [
    "singularity exec jupyter.img echo hello"
   ]
  },
  {
   "cell_type": "markdown",
   "metadata": {},
   "source": [
    "### Customizing the base image\n",
    "The base image we provide is meant to capture the _minimum_ config and dependencies to run Jupyter Notebooks. Here we detail how to customize the base image to better suit your needs."
   ]
  },
  {
   "cell_type": "markdown",
   "metadata": {},
   "source": [
    "#### Resize the image\n",
    "This image uses the default size set by Singularity _(768M)_ which is great for quick builds and pulls, but it is likely you'll need more space to accommodate your custom software stack."
   ]
  },
  {
   "cell_type": "code",
   "execution_count": 8,
   "metadata": {},
   "outputs": [
    {
     "name": "stdout",
     "output_type": "stream",
     "text": [
      "1.2G -rwxr-xr-x.  1 sampedro sampedrogrp 769M Sep 25 15:32 jupyter.img\n"
     ]
    }
   ],
   "source": [
    "ls -lsah | grep jupyter.img"
   ]
  },
  {
   "cell_type": "markdown",
   "metadata": {},
   "source": [
    "To increase the size of your image you must create a new image, and then import the Jupyter base image:"
   ]
  },
  {
   "cell_type": "code",
   "execution_count": 5,
   "metadata": {},
   "outputs": [
    {
     "name": "stdout",
     "output_type": "stream",
     "text": [
      "Initializing Singularity image subsystem\n",
      "\u001b[0mOpening image file: jupyter-ext.img\n",
      "\u001b[0mCreating 1500MiB image\n",
      "\u001b[0mBinding image to loop\n",
      "\u001b[0m\u001b[91mERROR  : The feature you are requesting requires privilege you do not have\n",
      "\u001b[0m\u001b[31mABORT  : Retval = 255\n",
      "\u001b[0m\u001b[91mERROR  : The feature you are requesting requires privilege you do not have\n",
      "\u001b[0m\u001b[31mABORT  : Retval = 255\n",
      "\u001b[0m"
     ]
    },
    {
     "ename": "",
     "evalue": "255",
     "output_type": "error",
     "traceback": []
    }
   ],
   "source": [
    "singularity create --size 1500 jupyter-ext.img\n",
    "singularity export jupyter.img > singularity import jupyter-ext.img"
   ]
  },
  {
   "cell_type": "code",
   "execution_count": 13,
   "metadata": {},
   "outputs": [
    {
     "name": "stdout",
     "output_type": "stream",
     "text": [
      "USAGE: singularity [...] import <container path> [import from URI]\n",
      "\n",
      "Import takes a URI and will populate a container with the contents of\n",
      "the URI. If no URI is given, import will expect an incoming tar pipe.\n",
      "\n",
      "The size of the container you need to create to import a complete system\n",
      "may be significantly larger than the size of the tar file/stream due to\n",
      "overheads of the container filesystem.\n",
      "\n",
      "SUPPORTED URIs:\n",
      "\n",
      "    docker:     Pull an image from the Docker repository\n",
      "\n",
      "EXAMPLES:\n",
      "\n",
      "    Once you have created the base image template:\n",
      "\n",
      "    $ singularity create /tmp/Debian.img\n",
      "\n",
      "    You can then import:\n",
      "\n",
      "    $ gunzip -c debian.tar.gz | singularity import /tmp/Debian.img\n",
      "    $ singularity import /tmp/Debian.img docker://ubuntu:latest\n",
      "\n",
      "For additional help, please visit our public documentation pages which are\n",
      "found at:\n",
      "\n",
      "    http://singularity.lbl.gov/\n",
      "\n"
     ]
    }
   ],
   "source": [
    "singularity help import"
   ]
  },
  {
   "cell_type": "code",
   "execution_count": 17,
   "metadata": {},
   "outputs": [
    {
     "name": "stdout",
     "output_type": "stream",
     "text": [
      "configure-singularity-env.sh\n",
      "jupyter.img\n",
      "managing-custom-jupyter-envs-with-singularity.ipynb\n"
     ]
    }
   ],
   "source": [
    "ls"
   ]
  },
  {
   "cell_type": "markdown",
   "metadata": {},
   "source": [
    "# Experiment Space _!!!_"
   ]
  },
  {
   "cell_type": "code",
   "execution_count": null,
   "metadata": {},
   "outputs": [
    {
     "name": "stdout",
     "output_type": "stream",
     "text": [
      "Initializing Singularity image subsystem\n",
      "\u001b[0mOpening image file: jupyter-spark.img\n",
      "\u001b[0mCreating 5709MiB image\n",
      "\u001b[0mBinding image to loop\n",
      "\u001b[0mCreating file system within image\n",
      "\u001b[0mImage is done: jupyter-spark.img\n",
      "\u001b[0mDocker image path: index.docker.io/jupyter/r-notebook:latest\n",
      "Cache folder set to /home/sampedro/.singularity/docker\n",
      "[18/22] |============================|------|  81.8% \u001b[91mERROR \u001b[0mError writing to /home/sampedro/.singularity/docker/sha256:ff2b77b87197934ca8d13f66e3a1036bbce12378416646fb6dc79de254199d66.tar.gz.EkyuJc.18htbW: [Errno 28] No space left on device exiting\n",
      "\u001b[91mERROR \u001b[0mError downloading https://index.docker.io/v2/jupyter/r-notebook/blobs/sha256:ff2b77b87197934ca8d13f66e3a1036bbce12378416646fb6dc79de254199d66. Do you have permission to write to /home/sampedro/.singularity/docker?\n"
     ]
    }
   ],
   "source": [
    "singularity pull --name \"jupyter-spark.img\" docker://jupyter/r-notebook"
   ]
  },
  {
   "cell_type": "code",
   "execution_count": 2,
   "metadata": {},
   "outputs": [
    {
     "name": "stdout",
     "output_type": "stream",
     "text": [
      "total 1256116\n",
      "     34 drwxr-sr-x.  3 sampedro sampedrogrp        213 Sep 26 15:39 .\n",
      "     34 drwxrws---. 12 sampedro sampedrogrp        407 Sep 25 14:39 ..\n",
      "     26 -rwxr-xr-x.  1 sampedro sampedrogrp        194 Sep 26 10:51 configure-singularity-env.sh\n",
      "      2 drwxr-sr-x.  2 sampedro sampedrogrp         80 Sep 25 15:55 .ipynb_checkpoints\n",
      "  73010 -rwxr-xr-x.  1 sampedro sampedrogrp 1572864032 Sep 26 10:53 jupyter-ext.img\n",
      "1182938 -rwxr-xr-x.  1 sampedro sampedrogrp  805306400 Sep 26 15:00 jupyter.img\n",
      "     74 -rw-r--r--.  1 sampedro sampedrogrp      20009 Sep 26 15:34 managing-custom-jupyter-envs-with-singularity.ipynb\n"
     ]
    }
   ],
   "source": [
    "rm -rf jupyter-spark.img\n",
    "ls -lsa"
   ]
  },
  {
   "cell_type": "code",
   "execution_count": 11,
   "metadata": {},
   "outputs": [
    {
     "name": "stdout",
     "output_type": "stream",
     "text": [
      "hello\n"
     ]
    }
   ],
   "source": [
    "singularity exec --writable jupyter.img echo hello"
   ]
  },
  {
   "cell_type": "code",
   "execution_count": null,
   "metadata": {},
   "outputs": [],
   "source": []
  }
 ],
 "metadata": {
  "kernelspec": {
   "display_name": "Bash",
   "language": "bash",
   "name": "bash"
  },
  "language_info": {
   "codemirror_mode": "shell",
   "file_extension": ".sh",
   "mimetype": "text/x-sh",
   "name": "bash"
  }
 },
 "nbformat": 4,
 "nbformat_minor": 2
}
