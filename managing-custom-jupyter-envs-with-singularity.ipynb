{
 "cells": [
  {
   "cell_type": "markdown",
   "metadata": {},
   "source": [
    "# Managing custom Jupyter environments with Singularity\n",
    "---\n",
    "In this tutorial we will cover the basic workflow for managing custom software environments for Jupyter Notebooks using Singularity."
   ]
  },
  {
   "cell_type": "markdown",
   "metadata": {},
   "source": [
    "## Pull the base image from SingularityHub\n",
    "We maintain a base image on SingularityHub for running Jupyter* (https://singularity-hub.org/collections/440/). This image contains the minimum dependencies and configuration needed to run containerized Notebooks (standalone or JupyterHub-spawned), and is intended to serve as a base for user-built software environments."
   ]
  },
  {
   "cell_type": "markdown",
   "metadata": {},
   "source": [
    "### A basic pull\n",
    "Start by pulling the Jupyter base image from SingularityHub:"
   ]
  },
  {
   "cell_type": "code",
   "execution_count": 1,
   "metadata": {},
   "outputs": [
    {
     "name": "stdout",
     "output_type": "stream",
     "text": [
      "\r",
      "Progress ||----------------------------------|   0.0% \r",
      "Progress ||----------------------------------|   0.6% \r",
      "Progress ||----------------------------------|   1.2% \r",
      "Progress ||----------------------------------|   1.7% \r",
      "Progress ||----------------------------------|   2.3% \r",
      "Progress |=|---------------------------------|   2.9% \r",
      "Progress |=|---------------------------------|   3.5% \r",
      "Progress |=|---------------------------------|   4.1% \r",
      "Progress |=|---------------------------------|   4.7% \r",
      "Progress |=|---------------------------------|   5.2% \r",
      "Progress |==|--------------------------------|   5.8% \r",
      "Progress |==|--------------------------------|   6.4% \r",
      "Progress |==|--------------------------------|   7.0% \r",
      "Progress |==|--------------------------------|   7.6% \r",
      "Progress |==|--------------------------------|   8.2% \r",
      "Progress |===|-------------------------------|   8.7% \r",
      "Progress |===|-------------------------------|   9.3% \r",
      "Progress |===|-------------------------------|   9.9% \r",
      "Progress |===|-------------------------------|  10.5% \r",
      "Progress |===|-------------------------------|  11.1% \r",
      "Progress |====|------------------------------|  11.7% \r",
      "Progress |====|------------------------------|  12.2% \r",
      "Progress |====|------------------------------|  12.8% \r",
      "Progress |====|------------------------------|  13.4% \r",
      "Progress |====|------------------------------|  14.0% \r",
      "Progress |=====|-----------------------------|  14.6% \r",
      "Progress |=====|-----------------------------|  15.1% \r",
      "Progress |=====|-----------------------------|  15.7% \r",
      "Progress |=====|-----------------------------|  16.3% \r",
      "Progress |=====|-----------------------------|  16.9% \r",
      "Progress |======|----------------------------|  17.5% \r",
      "Progress |======|----------------------------|  18.1% \r",
      "Progress |======|----------------------------|  18.6% \r",
      "Progress |======|----------------------------|  19.2% \r",
      "Progress |======|----------------------------|  19.8% \r",
      "Progress |=======|---------------------------|  20.4% \r",
      "Progress |=======|---------------------------|  21.0% \r",
      "Progress |=======|---------------------------|  21.6% \r",
      "Progress |=======|---------------------------|  22.1% \r",
      "Progress |=======|---------------------------|  22.7% \r",
      "Progress |========|--------------------------|  23.3% \r",
      "Progress |========|--------------------------|  23.9% \r",
      "Progress |========|--------------------------|  24.5% \r",
      "Progress |========|--------------------------|  25.1% \r",
      "Progress |========|--------------------------|  25.6% \r",
      "Progress |=========|-------------------------|  26.2% \r",
      "Progress |=========|-------------------------|  26.8% \r",
      "Progress |=========|-------------------------|  27.4% \r",
      "Progress |=========|-------------------------|  28.0% \r",
      "Progress |=========|-------------------------|  28.5% \r",
      "Progress |==========|------------------------|  29.1% \r",
      "Progress |==========|------------------------|  29.7% \r",
      "Progress |==========|------------------------|  30.3% \r",
      "Progress |==========|------------------------|  30.9% \r",
      "Progress |===========|-----------------------|  31.5% \r",
      "Progress |===========|-----------------------|  32.0% \r",
      "Progress |===========|-----------------------|  32.6% \r",
      "Progress |===========|-----------------------|  33.2% \r",
      "Progress |===========|-----------------------|  33.8% \r",
      "Progress |============|----------------------|  34.4% \r",
      "Progress |============|----------------------|  35.0% \r",
      "Progress |============|----------------------|  35.5% \r",
      "Progress |============|----------------------|  36.1% \r",
      "Progress |============|----------------------|  36.7% \r",
      "Progress |=============|---------------------|  37.3% \r",
      "Progress |=============|---------------------|  37.9% \r",
      "Progress |=============|---------------------|  38.5% \r",
      "Progress |=============|---------------------|  39.0% \r",
      "Progress |=============|---------------------|  39.6% \r",
      "Progress |==============|--------------------|  40.2% \r",
      "Progress |==============|--------------------|  40.8% \r",
      "Progress |==============|--------------------|  41.4% \r",
      "Progress |==============|--------------------|  42.0% \r",
      "Progress |==============|--------------------|  42.5% \r",
      "Progress |===============|-------------------|  43.1% \r",
      "Progress |===============|-------------------|  43.7% \r",
      "Progress |===============|-------------------|  44.3% \r",
      "Progress |===============|-------------------|  44.9% \r",
      "Progress |===============|-------------------|  45.4% \r",
      "Progress |================|------------------|  46.0% \r",
      "Progress |================|------------------|  46.6% \r",
      "Progress |================|------------------|  47.2% \r",
      "Progress |================|------------------|  47.8% \r",
      "Progress |================|------------------|  48.4% \r",
      "Progress |=================|-----------------|  48.9% \r",
      "Progress |=================|-----------------|  49.5% \r",
      "Progress |=================|-----------------|  50.1% \r",
      "Progress |=================|-----------------|  50.7% \r",
      "Progress |=================|-----------------|  51.3% \r",
      "Progress |==================|----------------|  51.9% \r",
      "Progress |==================|----------------|  52.4% \r",
      "Progress |==================|----------------|  53.0% \r",
      "Progress |==================|----------------|  53.6% \r",
      "Progress |==================|----------------|  54.2% \r",
      "Progress |===================|---------------|  54.8% \r",
      "Progress |===================|---------------|  55.4% \r",
      "Progress |===================|---------------|  55.9% \r",
      "Progress |===================|---------------|  56.5% \r",
      "Progress |===================|---------------|  57.1% \r",
      "Progress |====================|--------------|  57.7% \r",
      "Progress |====================|--------------|  58.3% \r",
      "Progress |====================|--------------|  58.8% \r",
      "Progress |====================|--------------|  59.4% \r",
      "Progress |=====================|-------------|  60.0% \r",
      "Progress |=====================|-------------|  60.6% \r",
      "Progress |=====================|-------------|  61.2% \r",
      "Progress |=====================|-------------|  61.8% \r",
      "Progress |=====================|-------------|  62.3% \r",
      "Progress |======================|------------|  62.9% \r",
      "Progress |======================|------------|  63.5% \r",
      "Progress |======================|------------|  64.1% \r",
      "Progress |======================|------------|  64.7% \r",
      "Progress |======================|------------|  65.3% \r",
      "Progress |=======================|-----------|  65.8% \r",
      "Progress |=======================|-----------|  66.4% \r",
      "Progress |=======================|-----------|  67.0% \r",
      "Progress |=======================|-----------|  67.6% \r",
      "Progress |=======================|-----------|  68.2% \r",
      "Progress |========================|----------|  68.8% \r",
      "Progress |========================|----------|  69.3% \r",
      "Progress |========================|----------|  69.9% \r",
      "Progress |========================|----------|  70.5% \r",
      "Progress |========================|----------|  71.1% \r",
      "Progress |=========================|---------|  71.7% \r",
      "Progress |=========================|---------|  72.2% \r",
      "Progress |=========================|---------|  72.8% \r",
      "Progress |=========================|---------|  73.4% \r",
      "Progress |=========================|---------|  74.0% \r",
      "Progress |==========================|--------|  74.6% \r",
      "Progress |==========================|--------|  75.2% \r",
      "Progress |==========================|--------|  75.7% \r",
      "Progress |==========================|--------|  76.3% \r",
      "Progress |==========================|--------|  76.9% \r",
      "Progress |===========================|-------|  77.5% \r",
      "Progress |===========================|-------|  78.1% \r",
      "Progress |===========================|-------|  78.7% \r",
      "Progress |===========================|-------|  79.2% \r",
      "Progress |===========================|-------|  79.8% \r",
      "Progress |============================|------|  80.4% \r",
      "Progress |============================|------|  81.0% \r",
      "Progress |============================|------|  81.6% \r",
      "Progress |============================|------|  82.2% \r",
      "Progress |============================|------|  82.7% \r",
      "Progress |=============================|-----|  83.3% \r",
      "Progress |=============================|-----|  83.9% \r",
      "Progress |=============================|-----|  84.5% \r",
      "Progress |=============================|-----|  85.1% \r",
      "Progress |=============================|-----|  85.6% \r",
      "Progress |==============================|----|  86.2% \r",
      "Progress |==============================|----|  86.8% \r",
      "Progress |==============================|----|  87.4% \r",
      "Progress |==============================|----|  88.0% \r",
      "Progress |==============================|----|  88.6% \r",
      "Progress |===============================|---|  89.1% \r",
      "Progress |===============================|---|  89.7% \r",
      "Progress |===============================|---|  90.3% \r",
      "Progress |===============================|---|  90.9% \r",
      "Progress |================================|--|  91.5% \r",
      "Progress |================================|--|  92.1% \r",
      "Progress |================================|--|  92.6% \r",
      "Progress |================================|--|  93.2% \r",
      "Progress |================================|--|  93.8% \r",
      "Progress |=================================|-|  94.4% \r",
      "Progress |=================================|-|  95.0% \r",
      "Progress |=================================|-|  95.6% \r",
      "Progress |=================================|-|  96.1% \r",
      "Progress |=================================|-|  96.7% \r",
      "Progress |==================================||  97.3% \r",
      "Progress |==================================||  97.9% \r",
      "Progress |==================================||  98.5% \r",
      "Progress |==================================||  99.0% \r",
      "Progress |==================================||  99.6% \r",
      "Progress |===================================| 100.0% \n"
     ]
    },
    {
     "name": "stdout",
     "output_type": "stream",
     "text": [
      "Done. Container is at: ./jupyter.img\n"
     ]
    }
   ],
   "source": [
    "singularity pull --name \"jupyter.img\" shub://ResearchComputing/singularity-jupyter:master"
   ]
  },
  {
   "cell_type": "markdown",
   "metadata": {},
   "source": [
    "There it is! Your container is good to go."
   ]
  },
  {
   "cell_type": "code",
   "execution_count": 2,
   "metadata": {},
   "outputs": [
    {
     "name": "stdout",
     "output_type": "stream",
     "text": [
      "usage: jupyter [-h] [--version] [--config-dir] [--data-dir] [--runtime-dir]\n",
      "               [--paths] [--json]\n",
      "               [subcommand]\n",
      "\n",
      "Jupyter: Interactive Computing\n",
      "\n",
      "positional arguments:\n",
      "  subcommand     the subcommand to launch\n",
      "\n",
      "optional arguments:\n",
      "  -h, --help     show this help message and exit\n",
      "  --version      show the jupyter command's version and exit\n",
      "  --config-dir   show Jupyter config dir\n",
      "  --data-dir     show Jupyter data dir\n",
      "  --runtime-dir  show Jupyter runtime dir\n",
      "  --paths        show all Jupyter paths. Add --json for machine-readable\n",
      "                 format.\n",
      "  --json         output paths as machine-readable json\n",
      "\n",
      "Available subcommands: bundlerextension kernelspec migrate nbconvert\n",
      "nbextension notebook run serverextension troubleshoot trust\n"
     ]
    }
   ],
   "source": [
    "singularity exec jupyter.img jupyter -h"
   ]
  },
  {
   "cell_type": "markdown",
   "metadata": {},
   "source": [
    "## Customizing the base image\n",
    "The base image we provide is meant to capture the _minimum_ config and dependencies to run Jupyter Notebooks. Here we detail how to customize the base image to better suit your needs."
   ]
  },
  {
   "cell_type": "markdown",
   "metadata": {},
   "source": [
    "### Resize the image\n",
    "This image uses the default size set by Singularity _(768M)_ which is great for quick builds and pulls, but it is likely you'll need more space to accommodate your custom software stack."
   ]
  },
  {
   "cell_type": "code",
   "execution_count": 3,
   "metadata": {},
   "outputs": [
    {
     "name": "stdout",
     "output_type": "stream",
     "text": [
      "769M -rwxrwxr-x.  1 vagrant vagrant 769M Sep 26 23:05 jupyter.img\n"
     ]
    }
   ],
   "source": [
    "ls -lsah | grep jupyter.img"
   ]
  },
  {
   "cell_type": "markdown",
   "metadata": {},
   "source": [
    "To increase the size of your image you must create a new image, and then import the Jupyter base image:"
   ]
  },
  {
   "cell_type": "code",
   "execution_count": 4,
   "metadata": {},
   "outputs": [
    {
     "name": "stdout",
     "output_type": "stream",
     "text": [
      "Initializing Singularity image subsystem\n",
      "\u001b[0mOpening image file: jupyter-ext.img\n",
      "\u001b[0mCreating 1500MiB image\n",
      "\u001b[0mBinding image to loop\n",
      "\u001b[0mCreating file system within image\n",
      "\u001b[0mImage is done: jupyter-ext.img\n",
      "\u001b[0m"
     ]
    }
   ],
   "source": [
    "singularity create --size 1500 jupyter-ext.img\n",
    "singularity export jupyter.img > singularity import jupyter-ext.img"
   ]
  },
  {
   "cell_type": "markdown",
   "metadata": {},
   "source": [
    "### Installing software _(the quick way)_\n",
    "By default Singularity containers mounted as read-only volumes, which means you won't be able to add content or install software _(even as a privileged user)_, save for default or system-mounted paths. In order to add content you must run your Singularity command with the `--writable` flag."
   ]
  },
  {
   "cell_type": "markdown",
   "metadata": {},
   "source": [
    "### Installing Software _(the reproducible way)_\n",
    "Shelling into your container and making ad-hoc changes is excellent for debugging and initial development, but it is considered bad practice as the steps needed to construct your software environment are not captured and cannot be reproduced.\n",
    "\n",
    "To make durable, reproducible changes you need to build a spec file from which you can bootstrap your container. Bootstrapping must be done by a privleged user"
   ]
  },
  {
   "cell_type": "code",
   "execution_count": 17,
   "metadata": {},
   "outputs": [
    {
     "name": "stdout",
     "output_type": "stream",
     "text": [
      "configure-singularity-env.sh\n",
      "jupyter.img\n",
      "managing-custom-jupyter-envs-with-singularity.ipynb\n"
     ]
    }
   ],
   "source": [
    "ls"
   ]
  },
  {
   "cell_type": "markdown",
   "metadata": {},
   "source": [
    "# Experiment Space _!!!_"
   ]
  },
  {
   "cell_type": "code",
   "execution_count": null,
   "metadata": {},
   "outputs": [
    {
     "name": "stdout",
     "output_type": "stream",
     "text": [
      "Initializing Singularity image subsystem\n",
      "\u001b[0mOpening image file: jupyter-spark.img\n",
      "\u001b[0mCreating 5709MiB image\n",
      "\u001b[0mBinding image to loop\n",
      "\u001b[0mCreating file system within image\n",
      "\u001b[0mImage is done: jupyter-spark.img\n",
      "\u001b[0mDocker image path: index.docker.io/jupyter/r-notebook:latest\n",
      "Cache folder set to /home/sampedro/.singularity/docker\n",
      "[18/22] |============================|------|  81.8% \u001b[91mERROR \u001b[0mError writing to /home/sampedro/.singularity/docker/sha256:ff2b77b87197934ca8d13f66e3a1036bbce12378416646fb6dc79de254199d66.tar.gz.EkyuJc.18htbW: [Errno 28] No space left on device exiting\n",
      "\u001b[91mERROR \u001b[0mError downloading https://index.docker.io/v2/jupyter/r-notebook/blobs/sha256:ff2b77b87197934ca8d13f66e3a1036bbce12378416646fb6dc79de254199d66. Do you have permission to write to /home/sampedro/.singularity/docker?\n"
     ]
    }
   ],
   "source": [
    "singularity pull --name \"jupyter-r.img\" docker://jupyter/r-notebook"
   ]
  },
  {
   "cell_type": "code",
   "execution_count": 2,
   "metadata": {},
   "outputs": [
    {
     "name": "stdout",
     "output_type": "stream",
     "text": [
      "total 1256116\n",
      "     34 drwxr-sr-x.  3 sampedro sampedrogrp        213 Sep 26 15:39 .\n",
      "     34 drwxrws---. 12 sampedro sampedrogrp        407 Sep 25 14:39 ..\n",
      "     26 -rwxr-xr-x.  1 sampedro sampedrogrp        194 Sep 26 10:51 configure-singularity-env.sh\n",
      "      2 drwxr-sr-x.  2 sampedro sampedrogrp         80 Sep 25 15:55 .ipynb_checkpoints\n",
      "  73010 -rwxr-xr-x.  1 sampedro sampedrogrp 1572864032 Sep 26 10:53 jupyter-ext.img\n",
      "1182938 -rwxr-xr-x.  1 sampedro sampedrogrp  805306400 Sep 26 15:00 jupyter.img\n",
      "     74 -rw-r--r--.  1 sampedro sampedrogrp      20009 Sep 26 15:34 managing-custom-jupyter-envs-with-singularity.ipynb\n"
     ]
    }
   ],
   "source": [
    "rm -rf jupyter-spark.img\n",
    "ls -lsa"
   ]
  },
  {
   "cell_type": "code",
   "execution_count": 11,
   "metadata": {},
   "outputs": [
    {
     "name": "stdout",
     "output_type": "stream",
     "text": [
      "hello\n"
     ]
    }
   ],
   "source": [
    "singularity exec --writable jupyter.img echo hello"
   ]
  },
  {
   "cell_type": "code",
   "execution_count": 6,
   "metadata": {},
   "outputs": [
    {
     "name": "stdout",
     "output_type": "stream",
     "text": [
      "Filesystem                       Size  Used Avail Use% Mounted on\n",
      "/dev/mapper/VolGroup00-LogVol00   38G  3.0G   35G   8% /\n"
     ]
    }
   ],
   "source": [
    "df -h /home/vagrant"
   ]
  },
  {
   "cell_type": "code",
   "execution_count": 5,
   "metadata": {},
   "outputs": [
    {
     "name": "stdout",
     "output_type": "stream",
     "text": [
      "DF(1)                            User Commands                           DF(1)\n",
      "\n",
      "\n",
      "\n",
      "NAME\n",
      "       df - report file system disk space usage\n",
      "\n",
      "SYNOPSIS\n",
      "       df [OPTION]... [FILE]...\n",
      "\n",
      "DESCRIPTION\n",
      "       This  manual  page  documents  the  GNU version of df.  df displays the\n",
      "       amount of disk space available on the file system containing each  file\n",
      "       name  argument.   If  no file name is given, the space available on all\n",
      "       currently mounted file systems is shown.  Disk space  is  shown  in  1K\n",
      "       blocks  by  default, unless the environment variable POSIXLY_CORRECT is\n",
      "       set, in which case 512-byte blocks are used.\n",
      "\n",
      "       If an argument is the absolute file name of a disk device node contain‐\n",
      "       ing  a  mounted  file system, df shows the space available on that file\n",
      "       system rather than on the file system containing the device node.  This\n",
      "       version  of  df  cannot show the space available on unmounted file sys‐\n",
      "       tems, because on most kinds of systems  doing  so  requires  very  non‐\n",
      "       portable intimate knowledge of file system structures.\n",
      "\n",
      "OPTIONS\n",
      "       Show  information  about the file system on which each FILE resides, or\n",
      "       all file systems by default.\n",
      "\n",
      "       Mandatory arguments to long options are  mandatory  for  short  options\n",
      "       too.\n",
      "\n",
      "       -a, --all\n",
      "              include dummy file systems\n",
      "\n",
      "       -B, --block-size=SIZE\n",
      "              scale  sizes  by  SIZE  before printing them; e.g., '-BM' prints\n",
      "              sizes in units of 1,048,576 bytes; see SIZE format below\n",
      "\n",
      "       --direct\n",
      "              show statistics for a file instead of mount point\n",
      "\n",
      "       --total\n",
      "              produce a grand total\n",
      "\n",
      "       -h, --human-readable\n",
      "              print sizes in human readable format (e.g., 1K 234M 2G)\n",
      "\n",
      "       -H, --si\n",
      "              likewise, but use powers of 1000 not 1024\n",
      "\n",
      "       -i, --inodes\n",
      "              list inode information instead of block usage\n",
      "\n",
      "       -k     like --block-size=1K\n",
      "\n",
      "       -l, --local\n",
      "              limit listing to local file systems\n",
      "\n",
      "       --no-sync\n",
      "              do not invoke sync before getting usage info (default)\n",
      "\n",
      "       --output[=FIELD_LIST]\n",
      "              use the output format defined by FIELD_LIST, or print all fields\n",
      "              if FIELD_LIST is omitted.\n",
      "\n",
      "       -P, --portability\n",
      "              use the POSIX output format\n",
      "\n",
      "       --sync invoke sync before getting usage info\n",
      "\n",
      "       -t, --type=TYPE\n",
      "              limit listing to file systems of type TYPE\n",
      "\n",
      "       -T, --print-type\n",
      "              print file system type\n",
      "\n",
      "       -x, --exclude-type=TYPE\n",
      "              limit listing to file systems not of type TYPE\n",
      "\n",
      "       -v     (ignored)\n",
      "\n",
      "       --help display this help and exit\n",
      "\n",
      "       --version\n",
      "              output version information and exit\n",
      "\n",
      "       Display   values  are  in  units  of  the  first  available  SIZE  from\n",
      "       --block-size, and the DF_BLOCK_SIZE, BLOCK_SIZE and BLOCKSIZE  environ‐\n",
      "       ment  variables.   Otherwise,  units  default  to 1024 bytes (or 512 if\n",
      "       POSIXLY_CORRECT is set).\n",
      "\n",
      "       SIZE is an integer and optional unit (example:  10M  is  10*1024*1024).\n",
      "       Units  are K, M, G, T, P, E, Z, Y (powers of 1024) or KB, MB, ... (pow‐\n",
      "       ers of 1000).\n",
      "\n",
      "       FIELD_LIST is a comma-separated list of columns to be included.   Valid\n",
      "       field  names  are:  'source',  'fstype',  'itotal',  'iused', 'iavail',\n",
      "       'ipcent', 'size', 'used', 'avail', 'pcent', 'file'  and  'target'  (see\n",
      "       info page).\n",
      "\n",
      "       GNU  coreutils  online  help:  <http://www.gnu.org/software/coreutils/>\n",
      "       Report df translation bugs to <http://translationproject.org/team/>\n",
      "\n",
      "AUTHOR\n",
      "       Written by Torbjorn Granlund, David MacKenzie, and Paul Eggert.\n",
      "\n",
      "COPYRIGHT\n",
      "       Copyright © 2013 Free Software Foundation, Inc.   License  GPLv3+:  GNU\n",
      "       GPL version 3 or later <http://gnu.org/licenses/gpl.html>.\n",
      "       This  is  free  software:  you  are free to change and redistribute it.\n",
      "       There is NO WARRANTY, to the extent permitted by law.\n",
      "\n",
      "SEE ALSO\n",
      "       The full documentation for df is maintained as a  Texinfo  manual.   If\n",
      "       the  info and df programs are properly installed at your site, the com‐\n",
      "       mand\n",
      "\n",
      "              info coreutils 'df invocation'\n",
      "\n",
      "       should give you access to the complete manual.\n",
      "\n",
      "\n",
      "\n",
      "GNU coreutils 8.22               November 2016                           DF(1)\n"
     ]
    }
   ],
   "source": [
    "man df"
   ]
  },
  {
   "cell_type": "code",
   "execution_count": null,
   "metadata": {},
   "outputs": [],
   "source": []
  }
 ],
 "metadata": {
  "kernelspec": {
   "display_name": "Bash",
   "language": "bash",
   "name": "bash"
  },
  "language_info": {
   "codemirror_mode": "shell",
   "file_extension": ".sh",
   "mimetype": "text/x-sh",
   "name": "bash"
  }
 },
 "nbformat": 4,
 "nbformat_minor": 2
}
