{
 "cells": [
  {
   "cell_type": "markdown",
   "metadata": {},
   "source": [
    "# Singularity Spawner\n",
    "---\n",
    "This tutorial provides an overview of the proof-of-concept _Singularity Spawner_ for JupyterHub."
   ]
  },
  {
   "cell_type": "markdown",
   "metadata": {},
   "source": [
    "## Overview\n",
    "Singularity Spawner (https://github.com/ResearchComputing/jupyterhub-singularity-spawner) is an ongoing development project at RC to allow JupyterHub to spawn notebook servers inside of Singularity containers.\n",
    "\n",
    "Singularity Spawner use-cases:\n",
    "* Low-friction path for users to execute notebooks in customized or otherwise unsupportable software environments.\n",
    "* Package software and content for tutorial sessions, and then deploy the teaching environments to Jupyter.\n",
    "\n",
    "Current features:\n",
    "* Spawn local notebooks in a Singularity image on disk.\n",
    "* User can specify the image path, so multiple user-defined environments are supported.\n",
    "\n",
    "Future work:\n",
    "* Option to pull from Docker registries and Singularity Hub.\n",
    "* Support for spawning Singularity notebooks on a cluster.\n",
    "* Generalize base image to support spawning _any_ application behind JupyterHub."
   ]
  },
  {
   "cell_type": "markdown",
   "metadata": {},
   "source": [
    "## Configuring the spawner\n",
    "When used as the primary spawner, the user is presented with an options form that allows for the specification of arbitrary images.\n",
    "\n",
    "In this demo we've nested Singularity Spawner in Profiles Spawner, which allows us to administratively define available images. The Jupyter R Notebook docker stack (https://github.com/jupyter/docker-stacks/tree/master/r-notebook) has been pulled ahead of time and configured as a spawn option:\n",
    "<a href=\"/user/vagrant/edit/jupyterhub_config.py\">Example JupyterHub Config</a>"
   ]
  },
  {
   "cell_type": "code",
   "execution_count": null,
   "metadata": {},
   "outputs": [],
   "source": [
    "singularity pull --name \"jupyter-r.img\" docker://jupyter/r-notebook"
   ]
  }
 ],
 "metadata": {
  "kernelspec": {
   "display_name": "Bash",
   "language": "bash",
   "name": "bash"
  },
  "language_info": {
   "codemirror_mode": "shell",
   "file_extension": ".sh",
   "mimetype": "text/x-sh",
   "name": "bash"
  }
 },
 "nbformat": 4,
 "nbformat_minor": 2
}
